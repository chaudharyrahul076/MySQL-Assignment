{
 "cells": [
  {
   "cell_type": "code",
   "execution_count": null,
   "id": "205cf617",
   "metadata": {},
   "outputs": [],
   "source": [
    "Q. 1. Count the number of Salesperson whose name begin with ‘a’/’A’.\n",
    "\n",
    "       SELECT * FROM salespeople WHERE NAME LIKE 'A%'or'a%';\n",
    "\n",
    "Q-2. Display all the Salesperson whose all orders worth is more than Rs. 2000.\n",
    "\n",
    "        SELECT Amt FROM employee WHERE Amt>=2000;\n",
    "\n",
    "Q-3. Count the number of Salesperson belonging to Newyork.\n",
    "\n",
    "        SELECT COUNT(*) FROM salespeople WHERE city = 'New York';\n",
    "\n",
    "Q-4. Display the number of Salespeople belonging to London and belonging to Paris.\n",
    "\n",
    "       SELECT * FROM customer WHERE NOT (city = 'New York' AND city = 'paris');\n",
    "\n",
    "Q-5. Display the number of orders taken by each Salesperson and their date of orders.\n",
    "\n",
    "        SELECT odate,onum,COUNT(*) FROM salespeople GROUP BY odate,onum;"
   ]
  }
 ],
 "metadata": {
  "kernelspec": {
   "display_name": "Python 3 (ipykernel)",
   "language": "python",
   "name": "python3"
  },
  "language_info": {
   "codemirror_mode": {
    "name": "ipython",
    "version": 3
   },
   "file_extension": ".py",
   "mimetype": "text/x-python",
   "name": "python",
   "nbconvert_exporter": "python",
   "pygments_lexer": "ipython3",
   "version": "3.9.7"
  }
 },
 "nbformat": 4,
 "nbformat_minor": 5
}
